{
 "cells": [
  {
   "cell_type": "code",
   "execution_count": 1,
   "metadata": {},
   "outputs": [],
   "source": [
    "import pandas as pd\n",
    "import numpy as np"
   ]
  },
  {
   "cell_type": "code",
   "execution_count": 8,
   "metadata": {},
   "outputs": [],
   "source": [
    "df=pd.read_csv('laptop_data1.csv',sep=',')"
   ]
  },
  {
   "cell_type": "code",
   "execution_count": 9,
   "metadata": {},
   "outputs": [
    {
     "data": {
      "text/html": [
       "<div>\n",
       "<style scoped>\n",
       "    .dataframe tbody tr th:only-of-type {\n",
       "        vertical-align: middle;\n",
       "    }\n",
       "\n",
       "    .dataframe tbody tr th {\n",
       "        vertical-align: top;\n",
       "    }\n",
       "\n",
       "    .dataframe thead th {\n",
       "        text-align: right;\n",
       "    }\n",
       "</style>\n",
       "<table border=\"1\" class=\"dataframe\">\n",
       "  <thead>\n",
       "    <tr style=\"text-align: right;\">\n",
       "      <th></th>\n",
       "      <th>,Company,TypeName,Inches,ScreenResolution,Cpu,Ram,Memory,Gpu,OpSys,Weight,Price</th>\n",
       "    </tr>\n",
       "  </thead>\n",
       "  <tbody>\n",
       "    <tr>\n",
       "      <th>0</th>\n",
       "      <td>0,Apple,Ultrabook,13.3,IPS Panel Retina Displa...</td>\n",
       "    </tr>\n",
       "    <tr>\n",
       "      <th>1</th>\n",
       "      <td>1,Apple,Ultrabook,13.3,1440x900,Intel Core i5 ...</td>\n",
       "    </tr>\n",
       "    <tr>\n",
       "      <th>2</th>\n",
       "      <td>2,HP,Notebook,15.6,Full HD 1920x1080,Intel Cor...</td>\n",
       "    </tr>\n",
       "    <tr>\n",
       "      <th>3</th>\n",
       "      <td>3,Apple,Ultrabook,15.4,IPS Panel Retina Displa...</td>\n",
       "    </tr>\n",
       "    <tr>\n",
       "      <th>4</th>\n",
       "      <td>4,Apple,Ultrabook,13.3,IPS Panel Retina Displa...</td>\n",
       "    </tr>\n",
       "    <tr>\n",
       "      <th>...</th>\n",
       "      <td>...</td>\n",
       "    </tr>\n",
       "    <tr>\n",
       "      <th>1298</th>\n",
       "      <td>1298,Lenovo,2 in 1 Convertible,14.0,IPS Panel ...</td>\n",
       "    </tr>\n",
       "    <tr>\n",
       "      <th>1299</th>\n",
       "      <td>1299,Lenovo,2 in 1 Convertible,13.3,IPS Panel ...</td>\n",
       "    </tr>\n",
       "    <tr>\n",
       "      <th>1300</th>\n",
       "      <td>1300,Lenovo,Notebook,14.0,1366x768,Intel Celer...</td>\n",
       "    </tr>\n",
       "    <tr>\n",
       "      <th>1301</th>\n",
       "      <td>1301,HP,Notebook,15.6,1366x768,Intel Core i7 6...</td>\n",
       "    </tr>\n",
       "    <tr>\n",
       "      <th>1302</th>\n",
       "      <td>1302,Asus,Notebook,15.6,1366x768,Intel Celeron...</td>\n",
       "    </tr>\n",
       "  </tbody>\n",
       "</table>\n",
       "<p>1303 rows × 1 columns</p>\n",
       "</div>"
      ],
      "text/plain": [
       "     ,Company,TypeName,Inches,ScreenResolution,Cpu,Ram,Memory,Gpu,OpSys,Weight,Price\n",
       "0     0,Apple,Ultrabook,13.3,IPS Panel Retina Displa...                             \n",
       "1     1,Apple,Ultrabook,13.3,1440x900,Intel Core i5 ...                             \n",
       "2     2,HP,Notebook,15.6,Full HD 1920x1080,Intel Cor...                             \n",
       "3     3,Apple,Ultrabook,15.4,IPS Panel Retina Displa...                             \n",
       "4     4,Apple,Ultrabook,13.3,IPS Panel Retina Displa...                             \n",
       "...                                                 ...                             \n",
       "1298  1298,Lenovo,2 in 1 Convertible,14.0,IPS Panel ...                             \n",
       "1299  1299,Lenovo,2 in 1 Convertible,13.3,IPS Panel ...                             \n",
       "1300  1300,Lenovo,Notebook,14.0,1366x768,Intel Celer...                             \n",
       "1301  1301,HP,Notebook,15.6,1366x768,Intel Core i7 6...                             \n",
       "1302  1302,Asus,Notebook,15.6,1366x768,Intel Celeron...                             \n",
       "\n",
       "[1303 rows x 1 columns]"
      ]
     },
     "execution_count": 9,
     "metadata": {},
     "output_type": "execute_result"
    }
   ],
   "source": [
    "df"
   ]
  },
  {
   "cell_type": "code",
   "execution_count": null,
   "metadata": {},
   "outputs": [],
   "source": []
  }
 ],
 "metadata": {
  "kernelspec": {
   "display_name": "Python 3",
   "language": "python",
   "name": "python3"
  },
  "language_info": {
   "codemirror_mode": {
    "name": "ipython",
    "version": 3
   },
   "file_extension": ".py",
   "mimetype": "text/x-python",
   "name": "python",
   "nbconvert_exporter": "python",
   "pygments_lexer": "ipython3",
   "version": "3.8.5"
  }
 },
 "nbformat": 4,
 "nbformat_minor": 4
}
